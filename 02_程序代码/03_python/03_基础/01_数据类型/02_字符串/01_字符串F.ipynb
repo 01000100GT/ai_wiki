{
 "cells": [
  {
   "cell_type": "markdown",
   "source": [
    "# 简介\n",
    "\n",
    "f-string，亦称为格式化字符串常量（formatted string literals），\n",
    "是Python3.6新引入的一种字符串格式化方法，该方法源于PEP 498 – Literal String \n",
    "Interpolation，主要目的是使格式化字符串的操作更加简便。\n",
    "f-string在形式上是以 f 或 F 修饰符引领的字符串（f'xxx' 或 F'xxx'），\n",
    "以大括号 {} 标明被替换的字段；f-string在本质上并不是字符串常量，\n",
    "而是一个在运行时运算求值的表达式："
   ],
   "metadata": {
    "collapsed": false,
    "pycharm": {
     "name": "#%% md\n"
    }
   }
  },
  {
   "cell_type": "code",
   "execution_count": 1,
   "metadata": {
    "collapsed": true,
    "pycharm": {
     "is_executing": false
    }
   },
   "outputs": [
    {
     "name": "stdout",
     "text": [
      "\n",
      "使用上述文本 ```\n",
      "GPT-35-Turbo 和 GPT-4 模型是针对对话接口进行了优化的语言模型。 该模型的行为与旧的 GPT-3 模型不同。 以前的模型是文本输入和文本输出， 这意味着它们接受了提示字符串并返回了一个会追加到提示的补全。 ```\n",
      "\n"
     ],
     "output_type": "stream"
    }
   ],
   "source": [
    "# 其中斜杠\\不在字符串中，只是表示字符串的连接关系\n",
    "\n",
    "text = f\"\"\"\n",
    "GPT-35-Turbo 和 GPT-4 模型是针对对话接口进行了优化的语言模型。\\\n",
    " 该模型的行为与旧的 GPT-3 模型不同。 以前的模型是文本输入和文本输出，\\\n",
    " 这意味着它们接受了提示字符串并返回了一个会追加到提示的补全。 \\\n",
    "\"\"\"\n",
    "\n",
    "new = f\"\"\"\n",
    "使用上述文本 ```{text}```\n",
    "\"\"\"\n",
    "\n",
    "print(new)"
   ]
  }
 ],
 "metadata": {
  "kernelspec": {
   "display_name": "Python 3",
   "language": "python",
   "name": "python3"
  },
  "language_info": {
   "codemirror_mode": {
    "name": "ipython",
    "version": 2
   },
   "file_extension": ".py",
   "mimetype": "text/x-python",
   "name": "python",
   "nbconvert_exporter": "python",
   "pygments_lexer": "ipython2",
   "version": "2.7.6"
  },
  "pycharm": {
   "stem_cell": {
    "cell_type": "raw",
    "source": [],
    "metadata": {
     "collapsed": false
    }
   }
  }
 },
 "nbformat": 4,
 "nbformat_minor": 0
}